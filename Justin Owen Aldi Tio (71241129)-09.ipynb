{
 "cells": [
  {
   "cell_type": "code",
   "execution_count": 13,
   "id": "8ae09506-9ac4-4099-9a6c-04a110145c5f",
   "metadata": {},
   "outputs": [
    {
     "name": "stdin",
     "output_type": "stream",
     "text": [
      "Masukkan kata pertama:  atma\n",
      "Masukkan kata kedua:  tama\n"
     ]
    },
    {
     "name": "stdout",
     "output_type": "stream",
     "text": [
      "'atma' dan 'tama' adalah anagram.\n"
     ]
    }
   ],
   "source": [
    "#Latihan 8.1\n",
    "def is_anagram(kata1, kata2):\n",
    "    kata1 = kata1.replace(\" \", \"\").lower()\n",
    "    kata2 = kata2.replace(\" \", \"\").lower()\n",
    "    \n",
    "    if len(kata1) != len(kata2):\n",
    "        return False\n",
    "    \n",
    "    return sorted(kata1) == sorted(kata2)\n",
    "\n",
    "kata_pertama = input(\"Masukkan kata pertama: \")\n",
    "kata_kedua = input(\"Masukkan kata kedua: \")\n",
    "\n",
    "if is_anagram(kata_pertama, kata_kedua):\n",
    "    print(f\"'{kata_pertama}' dan '{kata_kedua}' adalah anagram.\")\n",
    "else:\n",
    "    print(f\"'{kata_pertama}' dan '{kata_kedua}' bukan anagram.\")"
   ]
  },
  {
   "cell_type": "code",
   "execution_count": 29,
   "id": "2c1ea04e-f546-4d28-af0e-371b381c5add",
   "metadata": {},
   "outputs": [
    {
     "name": "stdin",
     "output_type": "stream",
     "text": [
      "Masukkan kalimat:  saya lagi makan makan\n",
      "Masukkan kata yang ingin dicari:  makan\n"
     ]
    },
    {
     "name": "stdout",
     "output_type": "stream",
     "text": [
      "Kata 'makan' ada 2 buah.\n"
     ]
    }
   ],
   "source": [
    "#Latihan 8.2\n",
    "def frekuensi_kata(kalimat, kata_dicari):\n",
    "    tanda_baca = '''.!,?'''\n",
    "    kalimat_baru = \"\"\n",
    "    for karakter in kalimat:\n",
    "        if karakter not in tanda_baca:\n",
    "            kalimat_baru += karakter.lower()\n",
    "    kata = kalimat_baru.split()\n",
    "    hasil = kata.count(kata_dicari.lower())\n",
    "    print(f\"Kata '{kata_dicari}' ada {hasil} buah.\")\n",
    "\n",
    "kalimat = input(\"Masukkan kalimat: \")\n",
    "kata_dicari = input(\"Masukkan kata yang ingin dicari: \")\n",
    "frekuensi_kata(kalimat, kata_dicari)"
   ]
  },
  {
   "cell_type": "code",
   "execution_count": 31,
   "id": "7b91301d-c4b5-45b3-8567-4f79066ef44e",
   "metadata": {},
   "outputs": [
    {
     "name": "stdin",
     "output_type": "stream",
     "text": [
      "Masukkan kalimat:  siklus  hidup  pemuda  nyeni\n"
     ]
    },
    {
     "name": "stdout",
     "output_type": "stream",
     "text": [
      "siklus hidup pemuda nyeni\n"
     ]
    }
   ],
   "source": [
    "#Latihan 8.3\n",
    "kalimat = input('Masukkan kalimat: ')\n",
    "hasil = ' '.join(kalimat.split())\n",
    "print(hasil)"
   ]
  },
  {
   "cell_type": "code",
   "execution_count": 33,
   "id": "174a557a-7336-4cbd-a073-d796b5defea0",
   "metadata": {},
   "outputs": [
    {
     "name": "stdin",
     "output_type": "stream",
     "text": [
      "Masukkan sebuah kalimat:  wong liyo ngerti opo\n"
     ]
    },
    {
     "name": "stdout",
     "output_type": "stream",
     "text": [
      "Kata terpendek: opo\n",
      "Kata terpanjang: ngerti\n"
     ]
    }
   ],
   "source": [
    "#Latihan 8.4\n",
    "kalimat = input(\"Masukkan sebuah kalimat: \")\n",
    "\n",
    "kata_kata = kalimat.split()\n",
    "\n",
    "if kata_kata: \n",
    "    kata_terpendek = min(kata_kata, key=len)\n",
    "    kata_terpanjang = max(kata_kata, key=len)\n",
    "    \n",
    "    print(f\"Kata terpendek: {kata_terpendek}\")\n",
    "    print(f\"Kata terpanjang: {kata_terpanjang}\")\n",
    "else:\n",
    "    print(\"Kalimat yang dimasukkan kosong!\")"
   ]
  }
 ],
 "metadata": {
  "kernelspec": {
   "display_name": "Python [conda env:base] *",
   "language": "python",
   "name": "conda-base-py"
  },
  "language_info": {
   "codemirror_mode": {
    "name": "ipython",
    "version": 3
   },
   "file_extension": ".py",
   "mimetype": "text/x-python",
   "name": "python",
   "nbconvert_exporter": "python",
   "pygments_lexer": "ipython3",
   "version": "3.12.7"
  }
 },
 "nbformat": 4,
 "nbformat_minor": 5
}
