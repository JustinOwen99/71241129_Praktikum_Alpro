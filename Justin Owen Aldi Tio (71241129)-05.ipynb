{
 "cells": [
  {
   "cell_type": "code",
   "execution_count": 17,
   "id": "5add7e50-e30d-4647-ac26-7d0c19e6574d",
   "metadata": {},
   "outputs": [
    {
     "data": {
      "text/plain": [
       "True"
      ]
     },
     "execution_count": 17,
     "metadata": {},
     "output_type": "execute_result"
    }
   ],
   "source": [
    "#Latihan 5.1\n",
    "def cek_angka(a,b,c):\n",
    "    if a!=b and a!=c and b!=c:\n",
    "        pass\n",
    "    else:\n",
    "        return False\n",
    "\n",
    "    if a+b==c or a+c==b or b+c==a:\n",
    "        return True\n",
    "    else:\n",
    "        return False\n",
    "\n",
    "cek_angka(2,10,12)"
   ]
  },
  {
   "cell_type": "code",
   "execution_count": 84,
   "id": "45d705bd-571c-4408-bb99-49a5fdf999ce",
   "metadata": {},
   "outputs": [
    {
     "name": "stdin",
     "output_type": "stream",
     "text": [
      "Masukkan bilangan pertama: 53\n",
      "Masukkan bilangan kedua: 8900\n",
      "Masukkan bilangan ketiga: 658\n"
     ]
    },
    {
     "data": {
      "text/plain": [
       "False"
      ]
     },
     "execution_count": 84,
     "metadata": {},
     "output_type": "execute_result"
    }
   ],
   "source": [
    "#Latihan 5.2\n",
    "def cek_digit_belakang(a,b,c):\n",
    "    if a>=1000:\n",
    "        ratusan=a%1000\n",
    "        puluhan=ratusan%100\n",
    "        satuan1=puluhan%10\n",
    "    elif a>=100:\n",
    "        puluhan=a%100\n",
    "        satuan1=puluhan%10\n",
    "    elif a>=10:\n",
    "        satuan1=a%10\n",
    "    else:\n",
    "        satuan1=a\n",
    "\n",
    "    if b>=1000:\n",
    "        ratusan=b%1000\n",
    "        puluhan=ratusan%100\n",
    "        satuan2=puluhan%10\n",
    "    elif b>=100:\n",
    "        puluhan=b%100\n",
    "        satuan2=puluhan%10\n",
    "    elif b>=10:\n",
    "        satuan2=b%10\n",
    "    else:\n",
    "        satuan2=b\n",
    "\n",
    "    if c>=1000:\n",
    "        ratusan=c%1000\n",
    "        puluhan=ratusan%100\n",
    "        satuan3=puluhan%10\n",
    "    elif a>=100:\n",
    "        puluhan=c%100\n",
    "        satuan3=puluhan%10\n",
    "    elif a>=10:\n",
    "        satuan3=c%10\n",
    "    else:\n",
    "        satuan3=c\n",
    "\n",
    "    if satuan1==satuan2 or satuan2==satuan3 or satuan1==satuan3:\n",
    "        return True\n",
    "    else:\n",
    "        return False\n",
    "\n",
    "a=int(input('Masukkan bilangan pertama:'))\n",
    "b=int(input('Masukkan bilangan kedua:'))\n",
    "c=int(input('Masukkan bilangan ketiga:'))\n",
    "\n",
    "cek_digit_belakang(a,b,c)"
   ]
  },
  {
   "cell_type": "code",
   "execution_count": 111,
   "id": "8a86e782-913f-4f24-baa1-001983535395",
   "metadata": {},
   "outputs": [
    {
     "name": "stdin",
     "output_type": "stream",
     "text": [
      "C = 0\n"
     ]
    },
    {
     "name": "stdout",
     "output_type": "stream",
     "text": [
      "F = 32.0\n"
     ]
    }
   ],
   "source": [
    "# Latihan 5.3\n",
    "#Celcius to Fahrenheit\n",
    "fahrenheit = lambda c: (9/5)*c+32\n",
    "\n",
    "c=float(input('C ='))\n",
    "print('F =',fahrenheit(c))"
   ]
  },
  {
   "cell_type": "code",
   "execution_count": 113,
   "id": "e755fa0e-22c2-4574-806e-784e6c25e717",
   "metadata": {},
   "outputs": [
    {
     "name": "stdin",
     "output_type": "stream",
     "text": [
      "C = 80\n"
     ]
    },
    {
     "name": "stdout",
     "output_type": "stream",
     "text": [
      "R = 64.0\n"
     ]
    }
   ],
   "source": [
    "#Celcius to Reamur\n",
    "reamur = lambda c: 0.8*c\n",
    "\n",
    "c=float(input('C ='))\n",
    "print('R =',reamur(c))"
   ]
  }
 ],
 "metadata": {
  "kernelspec": {
   "display_name": "Python [conda env:base] *",
   "language": "python",
   "name": "conda-base-py"
  },
  "language_info": {
   "codemirror_mode": {
    "name": "ipython",
    "version": 3
   },
   "file_extension": ".py",
   "mimetype": "text/x-python",
   "name": "python",
   "nbconvert_exporter": "python",
   "pygments_lexer": "ipython3",
   "version": "3.12.7"
  }
 },
 "nbformat": 4,
 "nbformat_minor": 5
}
