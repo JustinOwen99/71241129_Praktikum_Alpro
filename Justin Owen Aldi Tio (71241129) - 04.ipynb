{
 "cells": [
  {
   "cell_type": "code",
   "execution_count": 7,
   "id": "1719ee18-78f6-42ea-9b4b-e33ed8c2c05d",
   "metadata": {},
   "outputs": [
    {
     "name": "stdin",
     "output_type": "stream",
     "text": [
      "Masukkan suhu tubuh anda: tiga puluh tujuh\n"
     ]
    },
    {
     "name": "stdout",
     "output_type": "stream",
     "text": [
      "Suhu tubuh harus dalam bilangan bulat!\n"
     ]
    }
   ],
   "source": [
    "#Latihan 4.1\n",
    "#Contoh 4.1 (Demam atau tidak?)\n",
    "userinput = input('Masukkan suhu tubuh anda:')\n",
    "try:\n",
    "    suhu = int(userinput)\n",
    "    if suhu >= 38:\n",
    "        print('Anda demam.')\n",
    "    else:\n",
    "        print('Anda tidak demam.')\n",
    "except:\n",
    "    print('Suhu tubuh harus dalam bilangan bulat!')"
   ]
  },
  {
   "cell_type": "code",
   "execution_count": 15,
   "id": "8104fa4f-a6de-43b9-9d68-c14513ec59c8",
   "metadata": {},
   "outputs": [
    {
     "name": "stdin",
     "output_type": "stream",
     "text": [
      "Masukkan bilangan sepuluh\n"
     ]
    },
    {
     "name": "stdout",
     "output_type": "stream",
     "text": [
      "Bilangan harus bilangan bulat!\n"
     ]
    }
   ],
   "source": [
    "#Latihan 4.1\n",
    "#Contoh 4.2 (Positif atau Negatif?)\n",
    "userinput = input('Masukkan bilangan')\n",
    "try:\n",
    "    bilangan = int(userinput)\n",
    "    if bilangan == 0:\n",
    "        print('Nol')\n",
    "    elif bilangan > 0:\n",
    "        print('Positif')\n",
    "    elif bilangan < 0:\n",
    "        print('Negatif')\n",
    "except:\n",
    "    print('Bilangan harus bilangan bulat!')"
   ]
  },
  {
   "cell_type": "code",
   "execution_count": 21,
   "id": "95b6938c-7907-4a56-af8d-264ca5aaec7e",
   "metadata": {},
   "outputs": [
    {
     "name": "stdin",
     "output_type": "stream",
     "text": [
      "Masukkan bilangan pertama: dua belas\n",
      "Masukkan bilangan kedua: tiga puluh\n",
      "Masukkan bilangan ketiga: sembilan\n"
     ]
    },
    {
     "name": "stdout",
     "output_type": "stream",
     "text": [
      "Bilangan harus bilangan bulat\n"
     ]
    }
   ],
   "source": [
    "#Latihan 4.1\n",
    "#Contoh 4.3 (Nilai terbesar)\n",
    "userinput1 = input('Masukkan bilangan pertama:')\n",
    "userinput2 = input('Masukkan bilangan kedua:')\n",
    "userinput3 = input('Masukkan bilangan ketiga:')\n",
    "try:\n",
    "    a = int(userinput1)\n",
    "    b = int(userinput2)\n",
    "    c = int(userinput3)\n",
    "    if a > b and a > c:\n",
    "        print('Bilangan terbesar:', a)\n",
    "    elif b > a and b > c:\n",
    "        print('Bilangan terbesar:', b)\n",
    "    elif c > a and c > b:\n",
    "        print('Bilangan terbesar:', c)\n",
    "except:\n",
    "    print('Bilangan harus bilangan bulat')"
   ]
  },
  {
   "cell_type": "code",
   "execution_count": 53,
   "id": "5cfade28-f3a5-4b65-98ea-0380fa73bbb8",
   "metadata": {},
   "outputs": [
    {
     "name": "stdin",
     "output_type": "stream",
     "text": [
      "Masukkan bilangan: 0\n"
     ]
    },
    {
     "name": "stdout",
     "output_type": "stream",
     "text": [
      "Nol\n"
     ]
    }
   ],
   "source": [
    "#Latihan 4.2\n",
    "#Contoh 4.2 (Positif atau Negatif?)\n",
    "bilangan = int(input('Masukkan bilangan:'))\n",
    "print('Positif' if bilangan > 0 else 'Negatif' if bilangan < 0 else 'Nol')"
   ]
  },
  {
   "cell_type": "code",
   "execution_count": 89,
   "id": "a6eb3448-fa2f-4e51-972b-c3a291a05690",
   "metadata": {},
   "outputs": [
    {
     "name": "stdin",
     "output_type": "stream",
     "text": [
      "Masukkan bulan (1-12): 15\n"
     ]
    },
    {
     "name": "stdout",
     "output_type": "stream",
     "text": [
      "Bulan tidak valid\n"
     ]
    }
   ],
   "source": [
    "#Latihan 4.3\n",
    "bulan = int(input('Masukkan bulan (1-12):'))\n",
    "if bulan > 12:\n",
    "    print('Bulan tidak valid')\n",
    "else:\n",
    "    if bulan == 1 or bulan == 3 or bulan == 5 or bulan == 7 or bulan == 8 or bulan == 10 or bulan == 12:\n",
    "        print('Jumlah hari: 31')\n",
    "    elif bulan == 4 or bulan == 6 or bulan == 9 or bulan == 11:\n",
    "        print('Jumlah hari: 30')\n",
    "    else:\n",
    "        print('Jumlah hari: 29')"
   ]
  },
  {
   "cell_type": "code",
   "execution_count": 119,
   "id": "8a3993bb-e382-4664-97ff-74072263b0e1",
   "metadata": {},
   "outputs": [
    {
     "name": "stdin",
     "output_type": "stream",
     "text": [
      "Masukkan sisi 1: 9\n",
      "Masukkan sisi 2: 4\n",
      "Masukkan sisi 3: dua\n"
     ]
    },
    {
     "name": "stdout",
     "output_type": "stream",
     "text": [
      "Input harus bilangan bulat!\n"
     ]
    }
   ],
   "source": [
    "#Latihan 4.4\n",
    "userinput1 = input('Masukkan sisi 1:')\n",
    "userinput2 = input('Masukkan sisi 2:')\n",
    "userinput3 = input('Masukkan sisi 3:')\n",
    "try:\n",
    "    a = int(userinput1)\n",
    "    b = int(userinput2)\n",
    "    c = int(userinput3)\n",
    "    if a < 0 or b < 0 or c < 0:\n",
    "        print('Input harus positif!')\n",
    "    else:\n",
    "        if a == b and b == c:\n",
    "            print('3 sisi sama')\n",
    "        elif a == b or b == c or a == c:\n",
    "            print('2 sisi sama')\n",
    "        else:\n",
    "            print('Tidak ada yang sama')\n",
    "except:\n",
    "    print('Input harus bilangan bulat!')"
   ]
  },
  {
   "cell_type": "code",
   "execution_count": null,
   "id": "897d634a-e6cc-4aab-b68c-47442243f304",
   "metadata": {},
   "outputs": [],
   "source": []
  }
 ],
 "metadata": {
  "kernelspec": {
   "display_name": "Python [conda env:base] *",
   "language": "python",
   "name": "conda-base-py"
  },
  "language_info": {
   "codemirror_mode": {
    "name": "ipython",
    "version": 3
   },
   "file_extension": ".py",
   "mimetype": "text/x-python",
   "name": "python",
   "nbconvert_exporter": "python",
   "pygments_lexer": "ipython3",
   "version": "3.12.7"
  }
 },
 "nbformat": 4,
 "nbformat_minor": 5
}
