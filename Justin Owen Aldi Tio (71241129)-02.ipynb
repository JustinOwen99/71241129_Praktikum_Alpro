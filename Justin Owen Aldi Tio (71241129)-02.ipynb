{
 "cells": [
  {
   "cell_type": "code",
   "execution_count": 9,
   "id": "dd41791a-df16-425b-a3c1-bd32435d98a8",
   "metadata": {},
   "outputs": [
    {
     "name": "stdin",
     "output_type": "stream",
     "text": [
      "Masukkan Tinggi Badan (dalam meter): 1.75\n",
      "Masukkan BMI: 22\n"
     ]
    },
    {
     "name": "stdout",
     "output_type": "stream",
     "text": [
      "Berat badan anda 67 kg\n"
     ]
    }
   ],
   "source": [
    "#Menghitung Berat Badan\n",
    "tinggi = float(input(\"Masukkan Tinggi Badan (dalam meter):\"))\n",
    "bmi = float(input(\"Masukkan BMI:\"))\n",
    "\n",
    "berat  = round(bmi * tinggi**2)\n",
    "print(\"Berat badan anda\", berat, \"kg\") "
   ]
  },
  {
   "cell_type": "code",
   "execution_count": 13,
   "id": "020ffc09-236e-48bf-b098-018463add435",
   "metadata": {},
   "outputs": [
    {
     "name": "stdin",
     "output_type": "stream",
     "text": [
      "Masukkan bilangan bulat: 5\n"
     ]
    },
    {
     "name": "stdout",
     "output_type": "stream",
     "text": [
      "263.0\n"
     ]
    }
   ],
   "source": [
    "#Menghitung fungsi(x)\n",
    "x = int(input(\"Masukkan bilangan bulat:\"))\n",
    "\n",
    "fx = 2*x**3 + 2*x + 15/x\n",
    "print(fx)"
   ]
  },
  {
   "cell_type": "code",
   "execution_count": 20,
   "id": "71289afe-c90a-42b4-9111-5b4e4e9393aa",
   "metadata": {},
   "outputs": [
    {
     "name": "stdin",
     "output_type": "stream",
     "text": [
      "Masukkan gaji per jam yang diinginkan: 100000\n",
      "Masukkan jumlah jam kerja per minggu: 10\n"
     ]
    },
    {
     "name": "stdout",
     "output_type": "stream",
     "text": [
      "Pendapatan Budi sebelum pajak Rp. 5000000\n",
      "Pendapatan Budi setelah pajak Rp. 4300000.0\n",
      "Budi menghabiskan Rp. 430000.0 untuk membeli baju dan aksesoris\n",
      "Budi menghabiskan Rp. 38700.0 untuk membeli alat tulis\n",
      "Budi menyedekahkan Rp. 957825.0\n",
      "Budi memberi Rp. 287347.5 kepada anak yatim\n",
      "Budi memberi Rp. 670477.5 kepada kaum dhuafa\n"
     ]
    }
   ],
   "source": [
    "#Menghitung Gaji Budi\n",
    "gaji = int(input(\"Masukkan gaji per jam yang diinginkan:\"))\n",
    "jam_kerja = int(input(\"Masukkan jumlah jam kerja per minggu:\"))\n",
    "\n",
    "#Pendapatan sebelum pajak\n",
    "total = (jam_kerja * 5) * gaji\n",
    "print(\"Pendapatan Budi sebelum pajak Rp.\", total)\n",
    "\n",
    "#Pendapatan setelah pajak\n",
    "total_bersih = total - (total*14/100)\n",
    "print(\"Pendapatan Budi setelah pajak Rp.\", total_bersih)\n",
    "\n",
    "#Membeli baju dan aksesoris\n",
    "beli_baju = total_bersih * 10/100\n",
    "print(\"Budi menghabiskan Rp.\", beli_baju, \"untuk membeli baju dan aksesoris\")\n",
    "sisa = total_bersih - beli_baju\n",
    "\n",
    "#Membeli alat tulis\n",
    "beli_alat = sisa * 1/100\n",
    "print(\"Budi menghabiskan Rp.\", beli_alat, \"untuk membeli alat tulis\")\n",
    "sisa1 = sisa - beli_alat\n",
    "\n",
    "#Sedekah\n",
    "sedekah = sisa1 * 25/100\n",
    "print(\"Budi menyedekahkan Rp.\", sedekah)\n",
    "\n",
    "#Memberi anak yatim\n",
    "memberi_anakyatim = sedekah/1000 * 300\n",
    "print(\"Budi memberi Rp.\", memberi_anakyatim, \"kepada anak yatim\")\n",
    "\n",
    "#Memberi kaun dhuafa\n",
    "dhuafa = sedekah/1000 * 700\n",
    "print(\"Budi memberi Rp.\", dhuafa, \"kepada kaum dhuafa\")"
   ]
  }
 ],
 "metadata": {
  "kernelspec": {
   "display_name": "Python [conda env:base] *",
   "language": "python",
   "name": "conda-base-py"
  },
  "language_info": {
   "codemirror_mode": {
    "name": "ipython",
    "version": 3
   },
   "file_extension": ".py",
   "mimetype": "text/x-python",
   "name": "python",
   "nbconvert_exporter": "python",
   "pygments_lexer": "ipython3",
   "version": "3.12.7"
  }
 },
 "nbformat": 4,
 "nbformat_minor": 5
}
