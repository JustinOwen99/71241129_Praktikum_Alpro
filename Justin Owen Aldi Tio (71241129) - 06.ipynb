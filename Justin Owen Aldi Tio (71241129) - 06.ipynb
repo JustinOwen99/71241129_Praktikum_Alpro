{
 "cells": [
  {
   "cell_type": "code",
   "execution_count": 7,
   "id": "ed3f00ec-dc2a-4734-a112-07da9caf12fc",
   "metadata": {},
   "outputs": [
    {
     "name": "stdout",
     "output_type": "stream",
     "text": [
      "6 x 5 = 5 + 5 + 5 + 5 + 5 + 5 = 30\n",
      "7 x 10 = 10 + 10 + 10 + 10 + 10 + 10 + 10 = 70\n"
     ]
    }
   ],
   "source": [
    "#Latihan 6.1\n",
    "def perkalian(a,b):\n",
    "    hasil = 0\n",
    "    proses = f'{a} x {b} = '\n",
    "    for i in range(a):\n",
    "        hasil += b\n",
    "        if i > 0:\n",
    "            proses += ' + '\n",
    "        proses += f'{b}'\n",
    "    proses += f' = {hasil}'\n",
    "    print(proses)\n",
    "\n",
    "perkalian(6,5)\n",
    "perkalian(7,10)"
   ]
  },
  {
   "cell_type": "code",
   "execution_count": 64,
   "id": "c5086582-defa-4d78-bc45-4d6afcaeb0cc",
   "metadata": {},
   "outputs": [
    {
     "name": "stdout",
     "output_type": "stream",
     "text": [
      "97, 95, 93, 91, 89, 87, 85, 83, "
     ]
    }
   ],
   "source": [
    "#Latihan 6.2\n",
    "def ganjil(atas, bawah):\n",
    "    if atas > bawah:\n",
    "        for i in range(bawah, atas+1, 1):\n",
    "            if i % 2 != 0:\n",
    "                print(i, end=', ')\n",
    "            else:\n",
    "                continue\n",
    "    else:\n",
    "        for i in range(bawah, atas-1, -1):\n",
    "            if i % 2 != 0:\n",
    "                print(i, end=', ')\n",
    "            else:\n",
    "                continue\n",
    "ganjil(82,97)"
   ]
  },
  {
   "cell_type": "code",
   "execution_count": 82,
   "id": "a819422b-8d21-4283-8a60-c73a9031f2ce",
   "metadata": {},
   "outputs": [
    {
     "name": "stdout",
     "output_type": "stream",
     "text": [
      "Program penghitung IPS Mahasiswa\n"
     ]
    },
    {
     "name": "stdin",
     "output_type": "stream",
     "text": [
      "Masukkan jumlah mata kuliah: 6\n",
      "Nilai MK 1: A\n",
      "Nilai MK 2: B\n",
      "Nilai MK 3: C\n",
      "Nilai MK 4: A\n",
      "Nilai MK 5: D\n",
      "Nilai MK 6: C\n"
     ]
    },
    {
     "name": "stdout",
     "output_type": "stream",
     "text": [
      "Nilai IPS anda semester ini 2.67\n"
     ]
    }
   ],
   "source": [
    "#Latihan 6.3\n",
    "print('Program penghitung IPS Mahasiswa')\n",
    "jumlah = int(input('Masukkan jumlah mata kuliah:'))\n",
    "totalBobot = 0\n",
    "for i in range(jumlah):\n",
    "    nilai = input(f'Nilai MK {i+1}:').upper()\n",
    "\n",
    "    if nilai == 'A':\n",
    "        bobot = 4\n",
    "    elif nilai == 'B':\n",
    "        bobot = 3\n",
    "    elif nilai == 'C':\n",
    "        bobot = 2\n",
    "    else:\n",
    "        bobot = 1\n",
    "        \n",
    "    totalBobot += bobot\n",
    "\n",
    "ips = totalBobot / jumlah\n",
    "print(f'Nilai IPS anda semester ini {ips:.2f}')"
   ]
  }
 ],
 "metadata": {
  "kernelspec": {
   "display_name": "Python [conda env:base] *",
   "language": "python",
   "name": "conda-base-py"
  },
  "language_info": {
   "codemirror_mode": {
    "name": "ipython",
    "version": 3
   },
   "file_extension": ".py",
   "mimetype": "text/x-python",
   "name": "python",
   "nbconvert_exporter": "python",
   "pygments_lexer": "ipython3",
   "version": "3.12.7"
  }
 },
 "nbformat": 4,
 "nbformat_minor": 5
}
