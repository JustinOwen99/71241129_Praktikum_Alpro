{
 "cells": [
  {
   "cell_type": "code",
   "execution_count": 9,
   "id": "c8acfe1f-813b-4316-b4f1-a0d91f3052da",
   "metadata": {},
   "outputs": [
    {
     "name": "stdin",
     "output_type": "stream",
     "text": [
      "Masukkan bilangan: 21\n"
     ]
    },
    {
     "name": "stdout",
     "output_type": "stream",
     "text": [
      "Prima terdekat <21 adalah 19\n"
     ]
    }
   ],
   "source": [
    "#Latihan 6.1\n",
    "n = int(input('Masukkan bilangan:'))\n",
    "\n",
    "primaTerdekat = 0\n",
    "for i in range(n-1, 1, -1):\n",
    "    prima = True\n",
    "    for j in range(2, int(i**0.5) + 1):\n",
    "        if i % j == 0:\n",
    "            prima = False\n",
    "            break\n",
    "    if prima:\n",
    "        primaTerdekat = i\n",
    "        break\n",
    "print(f'Prima terdekat <{n} adalah {primaTerdekat}')"
   ]
  },
  {
   "cell_type": "code",
   "execution_count": 11,
   "id": "7cadf268-7af6-45ba-96d3-22a14ac28f2f",
   "metadata": {},
   "outputs": [
    {
     "name": "stdin",
     "output_type": "stream",
     "text": [
      "Masukkan bilangan: 6\n"
     ]
    },
    {
     "name": "stdout",
     "output_type": "stream",
     "text": [
      "720 6 5 4 3 2 1 \n",
      "120 5 4 3 2 1 \n",
      "24 4 3 2 1 \n",
      "6 3 2 1 \n",
      "2 2 1 \n",
      "1 1 \n"
     ]
    }
   ],
   "source": [
    "#Latihan 6.2\n",
    "n = int(input('Masukkan bilangan:'))\n",
    "\n",
    "for i in range(n, 0, -1):\n",
    "    f = 1\n",
    "    for j in range(1, i + 1):\n",
    "        f *= j\n",
    "    print(f, end=' ')\n",
    "    for j in range(i, 0, -1):\n",
    "        print(j, end=' ')\n",
    "    print()"
   ]
  },
  {
   "cell_type": "code",
   "execution_count": 15,
   "id": "e96817ce-e236-49d3-85ff-6140a88338a2",
   "metadata": {},
   "outputs": [
    {
     "name": "stdin",
     "output_type": "stream",
     "text": [
      "Masukkan tinggi: 5\n",
      "Masukkan lebar: 4\n"
     ]
    },
    {
     "name": "stdout",
     "output_type": "stream",
     "text": [
      "1 2 3 4 \n",
      "5 6 7 8 \n",
      "9 10 11 12 \n",
      "13 14 15 16 \n",
      "17 18 19 20 \n"
     ]
    }
   ],
   "source": [
    "#Latihan 6.3\n",
    "tinggi = int(input('Masukkan tinggi:'))\n",
    "lebar = int(input('Masukkan lebar:'))\n",
    "\n",
    "count = 1\n",
    "for i in range(tinggi):\n",
    "    for j in range(lebar):\n",
    "        print(count, end=' ')\n",
    "        count += 1\n",
    "    print()"
   ]
  }
 ],
 "metadata": {
  "kernelspec": {
   "display_name": "Python [conda env:base] *",
   "language": "python",
   "name": "conda-base-py"
  },
  "language_info": {
   "codemirror_mode": {
    "name": "ipython",
    "version": 3
   },
   "file_extension": ".py",
   "mimetype": "text/x-python",
   "name": "python",
   "nbconvert_exporter": "python",
   "pygments_lexer": "ipython3",
   "version": "3.12.7"
  }
 },
 "nbformat": 4,
 "nbformat_minor": 5
}
